{
 "cells": [
  {
   "cell_type": "code",
   "execution_count": 24,
   "metadata": {},
   "outputs": [],
   "source": [
    "###FILE DETECTION\n",
    "import os \n",
    "\n"
   ]
  },
  {
   "cell_type": "code",
   "execution_count": 20,
   "metadata": {},
   "outputs": [],
   "source": [
    "path = \"C:\\\\Users\\\\ACER\\\\Downloads\\\\folder\"\n"
   ]
  },
  {
   "cell_type": "code",
   "execution_count": 23,
   "metadata": {},
   "outputs": [
    {
     "name": "stdout",
     "output_type": "stream",
     "text": [
      "The location exists.\n",
      "That is a directory.\n"
     ]
    }
   ],
   "source": [
    "if os.path.exists(path):\n",
    "    print(\"The location exists.\")\n",
    "    if os.path.isfile(path):\n",
    "        print(\"That is a file.\")\n",
    "    elif os.path.isdir(path):\n",
    "        print(\"That is a directory.\")\n",
    "else:\n",
    "    print(\"The location doesn't exist.\")"
   ]
  },
  {
   "cell_type": "markdown",
   "metadata": {},
   "source": [
    "#random number"
   ]
  },
  {
   "cell_type": "code",
   "execution_count": 15,
   "metadata": {},
   "outputs": [
    {
     "name": "stdout",
     "output_type": "stream",
     "text": [
      "Player 1 is 1\n",
      "Player 2 is 1\n",
      "The game is a tie.\n"
     ]
    }
   ],
   "source": [
    "#RANDOM NUMBER\n",
    "\n",
    "import random \n",
    "\n",
    "x = random.randint(1,6) # opt = print random integers\n",
    "y = random.randint(1,6) #opt = print floating random number from 0 to 1\n",
    "\n",
    "print(\"Player 1 is \" + str(x))\n",
    "print(\"Player 2 is \" + str(y))\n",
    "\n",
    "if(x>y): \n",
    "    print(\"The winner is player 1.\")\n",
    "elif(y>x):\n",
    "    print(\"The winner is player 2.\")\n",
    "elif(x==y): \n",
    "    print(\"The game is a tie.\")\n",
    "\n",
    "    "
   ]
  },
  {
   "cell_type": "code",
   "execution_count": 36,
   "metadata": {},
   "outputs": [
    {
     "name": "stdout",
     "output_type": "stream",
     "text": [
      "That file was not found.\n"
     ]
    }
   ],
   "source": [
    "##Read a file\n",
    "try:\n",
    "    with open(\"C:\\\\Users\\\\ACER\\\\Downloads\\\\demo.txt.tx\") as file: \n",
    "        print(file.read())  \n",
    "except FileNotFoundError: \n",
    "    print(\"That file was not found.\")\n",
    "\n"
   ]
  },
  {
   "cell_type": "code",
   "execution_count": 41,
   "metadata": {},
   "outputs": [],
   "source": [
    "#Write a file \n",
    "\n",
    "text = \"See you soon !!!\"\n",
    "with open(\"C:\\\\Users\\\\ACER\\\\Downloads\\\\demo.txt.txt\", \"a\") as file: \n",
    "    file.write(text)"
   ]
  },
  {
   "cell_type": "code",
   "execution_count": 1,
   "metadata": {},
   "outputs": [
    {
     "data": {
      "text/plain": [
       "'copy.txt'"
      ]
     },
     "execution_count": 1,
     "metadata": {},
     "output_type": "execute_result"
    }
   ],
   "source": [
    "#copyfile() = copies contents of a file\n",
    "#copy() = copyfile() + permission mode + destination can be a directory\n",
    "#copy2() = copy() + copies metadata (file's creation and modification times)\n",
    "\n",
    "import shutil \n",
    "shutil.copyfile('demo.txt','copy.txt') #src, dst\n",
    "\n",
    "\n",
    "\n",
    "\n",
    " "
   ]
  },
  {
   "cell_type": "code",
   "execution_count": 5,
   "metadata": {},
   "outputs": [
    {
     "name": "stdout",
     "output_type": "stream",
     "text": [
      "test.txt was moved.\n"
     ]
    }
   ],
   "source": [
    "#move a file \n",
    "\n",
    "import os \n",
    "\n",
    "source = \"test.txt\"\n",
    "destination = \"C:\\\\Users\\\\ACER\\\\Downloads\\\\test.txt\"\n",
    "\n",
    "try: \n",
    "    if os.path.exists(destination):\n",
    "        print(\"There is already a file there.\")\n",
    "    else:\n",
    "        os.replace(source,destination)\n",
    "        print(source+\" was moved.\")\n",
    "\n",
    "except FileNotFoundError: \n",
    "    print(source+ \" was not found.\")\n",
    "\n"
   ]
  },
  {
   "cell_type": "code",
   "execution_count": 10,
   "metadata": {},
   "outputs": [
    {
     "name": "stdout",
     "output_type": "stream",
     "text": [
      "File is deleted.\n"
     ]
    }
   ],
   "source": [
    "#delete a file \n",
    "\n",
    "import os \n",
    "import shutil\n",
    "\n",
    "path = \"folder\"\n",
    "\n",
    "try: \n",
    "    #os.remove(path) # delete a file\n",
    "    #os.rmdir(path) #delete an empty directory\n",
    "    shutil.rmtree(path) #delete a directory containing files\n",
    "        \n",
    "except FileNotFoundError: \n",
    "    print(\"That file was not found.\")\n",
    "\n",
    "except PermissionError:\n",
    "    print(\"You don't have permission to delete that.\")\n",
    "\n",
    "except OSError:\n",
    "    print(\"You cannot delete it using that function.\")\n",
    "\n",
    "else: \n",
    "    print(\"File is deleted.\")\n"
   ]
  },
  {
   "cell_type": "code",
   "execution_count": 11,
   "metadata": {},
   "outputs": [],
   "source": [
    "#module = a file containing python code. May contain function, classes etc.\n",
    "# used with modular programming, which is to separate a program into parts. \n",
    "\n",
    "#import messages\n",
    "# import messages as m (use shorter form, quicker)\n",
    "# from messages import hello, bye\n",
    "# from messages import * (this one is dangerous cuz it import all modules) "
   ]
  },
  {
   "cell_type": "code",
   "execution_count": null,
   "metadata": {},
   "outputs": [],
   "source": [
    "import random \n",
    "\n",
    "choices = [\"rocke\",\"paper\",\"scissors\"]\n",
    "\n",
    "computer = random.choice(choices)\n",
    "player = None\n",
    "\n",
    "while player not in choices: \n",
    "    player = input(\"rock, paper, scissors? : \").lower()\n",
    "\n",
    "print(\"computer: \", computer)\n",
    "print(\"player: \", player)\n"
   ]
  },
  {
   "cell_type": "code",
   "execution_count": null,
   "metadata": {},
   "outputs": [],
   "source": []
  }
 ],
 "metadata": {
  "kernelspec": {
   "display_name": "base",
   "language": "python",
   "name": "python3"
  },
  "language_info": {
   "codemirror_mode": {
    "name": "ipython",
    "version": 3
   },
   "file_extension": ".py",
   "mimetype": "text/x-python",
   "name": "python",
   "nbconvert_exporter": "python",
   "pygments_lexer": "ipython3",
   "version": "3.12.7"
  }
 },
 "nbformat": 4,
 "nbformat_minor": 2
}
